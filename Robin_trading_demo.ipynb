{
 "cells": [
  {
   "cell_type": "markdown",
   "metadata": {},
   "source": [
    "# Robin Hood Trading Demo"
   ]
  },
  {
   "cell_type": "markdown",
   "metadata": {},
   "source": [
    "Presented here is a demonstration of how to use the robin.py module from the rh_trading repository on my github (https://github.com/michaelray1). The code is still very buggy, as you will see in the demonstration, so I need to work out a lot of those still."
   ]
  },
  {
   "cell_type": "code",
   "execution_count": 2,
   "metadata": {},
   "outputs": [
    {
     "name": "stderr",
     "output_type": "stream",
     "text": [
      "/Users/Michaelray/opt/anaconda3/envs/local/lib/python3.7/site-packages/tensorflow/python/framework/dtypes.py:516: FutureWarning: Passing (type, 1) or '1type' as a synonym of type is deprecated; in a future version of numpy, it will be understood as (type, (1,)) / '(1,)type'.\n",
      "  _np_qint8 = np.dtype([(\"qint8\", np.int8, 1)])\n",
      "/Users/Michaelray/opt/anaconda3/envs/local/lib/python3.7/site-packages/tensorflow/python/framework/dtypes.py:517: FutureWarning: Passing (type, 1) or '1type' as a synonym of type is deprecated; in a future version of numpy, it will be understood as (type, (1,)) / '(1,)type'.\n",
      "  _np_quint8 = np.dtype([(\"quint8\", np.uint8, 1)])\n",
      "/Users/Michaelray/opt/anaconda3/envs/local/lib/python3.7/site-packages/tensorflow/python/framework/dtypes.py:518: FutureWarning: Passing (type, 1) or '1type' as a synonym of type is deprecated; in a future version of numpy, it will be understood as (type, (1,)) / '(1,)type'.\n",
      "  _np_qint16 = np.dtype([(\"qint16\", np.int16, 1)])\n",
      "/Users/Michaelray/opt/anaconda3/envs/local/lib/python3.7/site-packages/tensorflow/python/framework/dtypes.py:519: FutureWarning: Passing (type, 1) or '1type' as a synonym of type is deprecated; in a future version of numpy, it will be understood as (type, (1,)) / '(1,)type'.\n",
      "  _np_quint16 = np.dtype([(\"quint16\", np.uint16, 1)])\n",
      "/Users/Michaelray/opt/anaconda3/envs/local/lib/python3.7/site-packages/tensorflow/python/framework/dtypes.py:520: FutureWarning: Passing (type, 1) or '1type' as a synonym of type is deprecated; in a future version of numpy, it will be understood as (type, (1,)) / '(1,)type'.\n",
      "  _np_qint32 = np.dtype([(\"qint32\", np.int32, 1)])\n",
      "/Users/Michaelray/opt/anaconda3/envs/local/lib/python3.7/site-packages/tensorflow/python/framework/dtypes.py:525: FutureWarning: Passing (type, 1) or '1type' as a synonym of type is deprecated; in a future version of numpy, it will be understood as (type, (1,)) / '(1,)type'.\n",
      "  np_resource = np.dtype([(\"resource\", np.ubyte, 1)])\n",
      "/Users/Michaelray/opt/anaconda3/envs/local/lib/python3.7/site-packages/tensorboard/compat/tensorflow_stub/dtypes.py:541: FutureWarning: Passing (type, 1) or '1type' as a synonym of type is deprecated; in a future version of numpy, it will be understood as (type, (1,)) / '(1,)type'.\n",
      "  _np_qint8 = np.dtype([(\"qint8\", np.int8, 1)])\n",
      "/Users/Michaelray/opt/anaconda3/envs/local/lib/python3.7/site-packages/tensorboard/compat/tensorflow_stub/dtypes.py:542: FutureWarning: Passing (type, 1) or '1type' as a synonym of type is deprecated; in a future version of numpy, it will be understood as (type, (1,)) / '(1,)type'.\n",
      "  _np_quint8 = np.dtype([(\"quint8\", np.uint8, 1)])\n",
      "/Users/Michaelray/opt/anaconda3/envs/local/lib/python3.7/site-packages/tensorboard/compat/tensorflow_stub/dtypes.py:543: FutureWarning: Passing (type, 1) or '1type' as a synonym of type is deprecated; in a future version of numpy, it will be understood as (type, (1,)) / '(1,)type'.\n",
      "  _np_qint16 = np.dtype([(\"qint16\", np.int16, 1)])\n",
      "/Users/Michaelray/opt/anaconda3/envs/local/lib/python3.7/site-packages/tensorboard/compat/tensorflow_stub/dtypes.py:544: FutureWarning: Passing (type, 1) or '1type' as a synonym of type is deprecated; in a future version of numpy, it will be understood as (type, (1,)) / '(1,)type'.\n",
      "  _np_quint16 = np.dtype([(\"quint16\", np.uint16, 1)])\n",
      "/Users/Michaelray/opt/anaconda3/envs/local/lib/python3.7/site-packages/tensorboard/compat/tensorflow_stub/dtypes.py:545: FutureWarning: Passing (type, 1) or '1type' as a synonym of type is deprecated; in a future version of numpy, it will be understood as (type, (1,)) / '(1,)type'.\n",
      "  _np_qint32 = np.dtype([(\"qint32\", np.int32, 1)])\n",
      "/Users/Michaelray/opt/anaconda3/envs/local/lib/python3.7/site-packages/tensorboard/compat/tensorflow_stub/dtypes.py:550: FutureWarning: Passing (type, 1) or '1type' as a synonym of type is deprecated; in a future version of numpy, it will be understood as (type, (1,)) / '(1,)type'.\n",
      "  np_resource = np.dtype([(\"resource\", np.ubyte, 1)])\n"
     ]
    }
   ],
   "source": [
    "#Import the robin.py module and numpy\n",
    "import robin as rb\n",
    "import numpy as np"
   ]
  },
  {
   "cell_type": "code",
   "execution_count": 3,
   "metadata": {},
   "outputs": [],
   "source": [
    "#Create a statistics object, then use that to create a metrics object\n",
    "stats = rb.statistics()\n",
    "metrics = rb.metrics(statistics = stats)\n",
    "\n",
    "#Now use these two to create a neural network object. You also need a username and password for this. Enter them below.\n",
    "un = 'michael.ray436@gmail.com'\n",
    "pw = 'Dopesince_1996'\n",
    "nn = rb.nn(metrics = metrics, statistics = stats, un = un, pw = pw)"
   ]
  },
  {
   "cell_type": "markdown",
   "metadata": {},
   "source": [
    "So now we've got all the necessary ingredients for the setup of our neural network. The last thing we need is some data to train the neural network. All we need to provide is the stock tickers for whatever stocks we are interested in analyzing. I've got a file saved here that has about 25 blue chip stocks (expensive, safe stocks) to use for this demonstration. Let's load in the tickers."
   ]
  },
  {
   "cell_type": "code",
   "execution_count": 4,
   "metadata": {},
   "outputs": [
    {
     "name": "stdout",
     "output_type": "stream",
     "text": [
      "['IBM' 'XOM' 'CVX' 'PG' 'MMM' 'JNJ' 'MCD' 'WMT' 'KO' 'BA' 'CAT' 'JPM'\n",
      " 'HPQ' 'VZ' 'T' 'DD' 'MRK' 'DIS' 'HD' 'MSFT' 'AXP' 'BAC' 'PFE' 'GE' 'INTC'\n",
      " 'AA' 'C' 'GM']\n"
     ]
    }
   ],
   "source": [
    "#Load in blue chip stock tickers and print out what it looks like\n",
    "blue_chips = np.load('blue_chip_stock_tickers.npz')['arr_0']\n",
    "print(blue_chips)"
   ]
  },
  {
   "cell_type": "code",
   "execution_count": 5,
   "metadata": {},
   "outputs": [
    {
     "name": "stdout",
     "output_type": "stream",
     "text": [
      "completed collecting data for IBM (1 of 28 stocks done)\n",
      "completed collecting data for XOM (2 of 28 stocks done)\n",
      "completed collecting data for CVX (3 of 28 stocks done)\n",
      "completed collecting data for PG (4 of 28 stocks done)\n",
      "completed collecting data for MMM (5 of 28 stocks done)\n",
      "completed collecting data for JNJ (6 of 28 stocks done)\n",
      "completed collecting data for MCD (7 of 28 stocks done)\n",
      "completed collecting data for WMT (8 of 28 stocks done)\n",
      "completed collecting data for KO (9 of 28 stocks done)\n",
      "completed collecting data for BA (10 of 28 stocks done)\n",
      "completed collecting data for CAT (11 of 28 stocks done)\n",
      "completed collecting data for JPM (12 of 28 stocks done)\n",
      "completed collecting data for HPQ (13 of 28 stocks done)\n",
      "completed collecting data for VZ (14 of 28 stocks done)\n",
      "completed collecting data for T (15 of 28 stocks done)\n",
      "completed collecting data for DD (16 of 28 stocks done)\n",
      "completed collecting data for MRK (17 of 28 stocks done)\n",
      "completed collecting data for DIS (18 of 28 stocks done)\n",
      "completed collecting data for HD (19 of 28 stocks done)\n",
      "completed collecting data for MSFT (20 of 28 stocks done)\n",
      "completed collecting data for AXP (21 of 28 stocks done)\n",
      "completed collecting data for BAC (22 of 28 stocks done)\n",
      "completed collecting data for PFE (23 of 28 stocks done)\n",
      "completed collecting data for GE (24 of 28 stocks done)\n",
      "completed collecting data for INTC (25 of 28 stocks done)\n",
      "completed collecting data for AA (26 of 28 stocks done)\n",
      "completed collecting data for C (27 of 28 stocks done)\n",
      "completed collecting data for GM (28 of 28 stocks done)\n"
     ]
    }
   ],
   "source": [
    "#Use neural network functions to get training and testing data\n",
    "nn.get_tt_data(inputSymbols = blue_chips)"
   ]
  },
  {
   "cell_type": "markdown",
   "metadata": {},
   "source": [
    "The testing and training data is crucial to creating a successful neural network. In a sense, this is the main function that implements my trading strategy. Before I give a quick explanation of what the training/testing data is, let's look at it."
   ]
  },
  {
   "cell_type": "code",
   "execution_count": 6,
   "metadata": {},
   "outputs": [
    {
     "data": {
      "text/plain": [
       "array([[0., 1., 0., 0.],\n",
       "       [0., 1., 0., 0.],\n",
       "       [0., 1., 0., 0.],\n",
       "       [0., 1., 0., 1.],\n",
       "       [0., 1., 1., 0.],\n",
       "       [0., 1., 0., 0.]])"
      ]
     },
     "execution_count": 6,
     "metadata": {},
     "output_type": "execute_result"
    }
   ],
   "source": [
    "nn.testing"
   ]
  },
  {
   "cell_type": "code",
   "execution_count": 7,
   "metadata": {},
   "outputs": [
    {
     "data": {
      "text/plain": [
       "array([[0., 1., 0., 0.],\n",
       "       [0., 1., 0., 0.],\n",
       "       [0., 1., 0., 0.],\n",
       "       [0., 1., 0., 0.],\n",
       "       [0., 1., 0., 0.],\n",
       "       [0., 1., 0., 0.],\n",
       "       [0., 1., 0., 0.],\n",
       "       [0., 0., 0., 0.],\n",
       "       [0., 1., 0., 0.],\n",
       "       [0., 1., 0., 0.],\n",
       "       [0., 1., 1., 0.],\n",
       "       [0., 1., 1., 0.],\n",
       "       [0., 1., 0., 0.],\n",
       "       [0., 0., 0., 0.],\n",
       "       [0., 1., 0., 0.],\n",
       "       [0., 1., 1., 0.],\n",
       "       [1., 0., 0., 0.],\n",
       "       [0., 1., 0., 0.],\n",
       "       [0., 1., 1., 1.],\n",
       "       [0., 1., 0., 1.],\n",
       "       [0., 1., 0., 0.],\n",
       "       [0., 1., 1., 0.]])"
      ]
     },
     "execution_count": 7,
     "metadata": {},
     "output_type": "execute_result"
    }
   ],
   "source": [
    "nn.training"
   ]
  },
  {
   "cell_type": "markdown",
   "metadata": {},
   "source": [
    "Each group of 4 ones and zeros here represents one stock's data (if you count up all the rows shown, you get 28 which represents all the blue chip stocks we used). The rightmost value in each row is the \"expected output\". By default (you can change all these settings in the keyword arguments of nn.get_tt_data), this tells us whether the stock went up by 4% within 10 days of the end of the data that the neural network has access to. Essentially, we truncate the data that the neural network has access to. Then we use that shortened data set to try to predict the \"future\" (we have the \"future\" data already, we are using it to see if the neural network can make accurate predictions).\n",
    "\n",
    "Now, the other three numbers represent the different metrics. At current, there's only three metrics coded in, but I plan to expand this later. The three metrics coded in for now are bbands_bottom, ma_crossover, and rsi_crossover. bbands_bottom gives 1 if the stock's price is below one standard deviation from its mean, and 0 if it isn't that low. ma_crossover gives 1 if the short period (25 days) moving average is higher than the long period moving average (250 days). rsi_crossover is very similar to ma_crossover, but it uses the so called \"relative strength index\" as a measure of how the stock is doing.\n",
    "\n",
    "Once the neural network has the metrics, the idea is that it will weight each metric by a given amount (call these weights w_i). Then, it takes a look at the \"total prediction\" which is the sum of w_i * m_i where m_i is the i'th metric. Basically, we just look at a weighted sum of the metrics. Then a reLU activation function is applied where if the total prediction is higher than some specified value, then the neural network predicts a \"1\" which corresponds to \"buy the stock\". Anything below the specified value of the total prediction means that the neural network returns a \"0\" which corresponds to \"don't buy the stock\". \n",
    "\n",
    "Now, what the neural network is doing, is it's using the last column of our training data (the \"expected output\") to optimize the weights, w_i. By using the training/testing data to optimize the weights, the idea is that we can let the computer figure out which metrics are actually the best indicators of whether a stock will go up or down. Perhaps it's actually some funky combination of all the metrics that best indicates whether a stock will go up or down. Now let's see how to check the accuracy of our neural network and also use it to predict things about other stocks. This is where the code gets buggy and needs some work."
   ]
  },
  {
   "cell_type": "code",
   "execution_count": 8,
   "metadata": {},
   "outputs": [
    {
     "name": "stdout",
     "output_type": "stream",
     "text": [
      "WARNING:tensorflow:From /Users/Michaelray/opt/anaconda3/envs/local/lib/python3.7/site-packages/tensorflow/python/ops/init_ops.py:1251: calling VarianceScaling.__init__ (from tensorflow.python.ops.init_ops) with dtype is deprecated and will be removed in a future version.\n",
      "Instructions for updating:\n",
      "Call initializer instance with the dtype argument instead of passing it to the constructor\n"
     ]
    }
   ],
   "source": [
    "#Build the neural network with default settings for size of layers\n",
    "nn.build_network()"
   ]
  },
  {
   "cell_type": "code",
   "execution_count": 9,
   "metadata": {},
   "outputs": [
    {
     "name": "stdout",
     "output_type": "stream",
     "text": [
      "Train on 22 samples, validate on 6 samples\n",
      "Epoch 1/50\n",
      "22/22 [==============================] - 0s 9ms/sample - loss: 0.2246 - val_loss: 0.2226\n",
      "Epoch 2/50\n",
      "22/22 [==============================] - 0s 263us/sample - loss: 0.1267 - val_loss: 0.2011\n",
      "Epoch 3/50\n",
      "22/22 [==============================] - 0s 304us/sample - loss: 0.0892 - val_loss: 0.1818\n",
      "Epoch 4/50\n",
      "22/22 [==============================] - 0s 254us/sample - loss: 0.0882 - val_loss: 0.1701\n",
      "Epoch 5/50\n",
      "22/22 [==============================] - 0s 251us/sample - loss: 0.0876 - val_loss: 0.1670\n",
      "Epoch 6/50\n",
      "22/22 [==============================] - 0s 251us/sample - loss: 0.0885 - val_loss: 0.1667\n",
      "Epoch 7/50\n",
      "22/22 [==============================] - 0s 239us/sample - loss: 0.0905 - val_loss: 0.1667\n",
      "Epoch 8/50\n",
      "22/22 [==============================] - 0s 263us/sample - loss: 0.0900 - val_loss: 0.1673\n",
      "Epoch 9/50\n",
      "22/22 [==============================] - 0s 267us/sample - loss: 0.0866 - val_loss: 0.1688\n",
      "Epoch 10/50\n",
      "22/22 [==============================] - 0s 260us/sample - loss: 0.0830 - val_loss: 0.1707\n",
      "Epoch 11/50\n",
      "22/22 [==============================] - 0s 302us/sample - loss: 0.0834 - val_loss: 0.1735\n",
      "Epoch 12/50\n",
      "22/22 [==============================] - 0s 265us/sample - loss: 0.0815 - val_loss: 0.1747\n",
      "Epoch 13/50\n",
      "22/22 [==============================] - 0s 325us/sample - loss: 0.0823 - val_loss: 0.1765\n",
      "Epoch 14/50\n",
      "22/22 [==============================] - 0s 307us/sample - loss: 0.0829 - val_loss: 0.1774\n",
      "Epoch 15/50\n",
      "22/22 [==============================] - 0s 287us/sample - loss: 0.0825 - val_loss: 0.1770\n",
      "Epoch 16/50\n",
      "22/22 [==============================] - 0s 267us/sample - loss: 0.0823 - val_loss: 0.1756\n",
      "Epoch 17/50\n",
      "22/22 [==============================] - 0s 260us/sample - loss: 0.0818 - val_loss: 0.1740\n",
      "Epoch 18/50\n",
      "22/22 [==============================] - 0s 254us/sample - loss: 0.0839 - val_loss: 0.1718\n",
      "Epoch 19/50\n",
      "22/22 [==============================] - 0s 264us/sample - loss: 0.0824 - val_loss: 0.1715\n",
      "Epoch 20/50\n",
      "22/22 [==============================] - 0s 277us/sample - loss: 0.0821 - val_loss: 0.1718\n",
      "Epoch 21/50\n",
      "22/22 [==============================] - 0s 255us/sample - loss: 0.0821 - val_loss: 0.1719\n",
      "Epoch 22/50\n",
      "22/22 [==============================] - 0s 236us/sample - loss: 0.0831 - val_loss: 0.1735\n",
      "Epoch 23/50\n",
      "22/22 [==============================] - 0s 246us/sample - loss: 0.0821 - val_loss: 0.1736\n",
      "Epoch 24/50\n",
      "22/22 [==============================] - 0s 286us/sample - loss: 0.0820 - val_loss: 0.1746\n",
      "Epoch 25/50\n",
      "22/22 [==============================] - 0s 326us/sample - loss: 0.0820 - val_loss: 0.1749\n",
      "Epoch 26/50\n",
      "22/22 [==============================] - 0s 293us/sample - loss: 0.0824 - val_loss: 0.1743\n",
      "Epoch 27/50\n",
      "22/22 [==============================] - 0s 332us/sample - loss: 0.0821 - val_loss: 0.1742\n",
      "Epoch 28/50\n",
      "22/22 [==============================] - 0s 275us/sample - loss: 0.0822 - val_loss: 0.1751\n",
      "Epoch 29/50\n",
      "22/22 [==============================] - 0s 302us/sample - loss: 0.0824 - val_loss: 0.1756\n",
      "Epoch 30/50\n",
      "22/22 [==============================] - 0s 255us/sample - loss: 0.0832 - val_loss: 0.1741\n",
      "Epoch 31/50\n",
      "22/22 [==============================] - 0s 265us/sample - loss: 0.0824 - val_loss: 0.1745\n",
      "Epoch 32/50\n",
      "22/22 [==============================] - 0s 281us/sample - loss: 0.0823 - val_loss: 0.1747\n",
      "Epoch 33/50\n",
      "22/22 [==============================] - 0s 315us/sample - loss: 0.0822 - val_loss: 0.1742\n",
      "Epoch 34/50\n",
      "22/22 [==============================] - 0s 264us/sample - loss: 0.0821 - val_loss: 0.1736\n",
      "Epoch 35/50\n",
      "22/22 [==============================] - 0s 317us/sample - loss: 0.0820 - val_loss: 0.1730\n",
      "Epoch 36/50\n",
      "22/22 [==============================] - 0s 271us/sample - loss: 0.0817 - val_loss: 0.1718\n",
      "Epoch 37/50\n",
      "22/22 [==============================] - 0s 256us/sample - loss: 0.0830 - val_loss: 0.1706\n",
      "Epoch 38/50\n",
      "22/22 [==============================] - 0s 308us/sample - loss: 0.0824 - val_loss: 0.1712\n",
      "Epoch 39/50\n",
      "22/22 [==============================] - 0s 312us/sample - loss: 0.0832 - val_loss: 0.1725\n",
      "Epoch 40/50\n",
      "22/22 [==============================] - 0s 305us/sample - loss: 0.0821 - val_loss: 0.1730\n",
      "Epoch 41/50\n",
      "22/22 [==============================] - 0s 300us/sample - loss: 0.0820 - val_loss: 0.1732\n",
      "Epoch 42/50\n",
      "22/22 [==============================] - 0s 245us/sample - loss: 0.0819 - val_loss: 0.1730\n",
      "Epoch 43/50\n",
      "22/22 [==============================] - 0s 273us/sample - loss: 0.0821 - val_loss: 0.1727\n",
      "Epoch 44/50\n",
      "22/22 [==============================] - 0s 256us/sample - loss: 0.0828 - val_loss: 0.1723\n",
      "Epoch 45/50\n",
      "22/22 [==============================] - 0s 279us/sample - loss: 0.0819 - val_loss: 0.1730\n",
      "Epoch 46/50\n",
      "22/22 [==============================] - 0s 229us/sample - loss: 0.0824 - val_loss: 0.1751\n",
      "Epoch 47/50\n",
      "22/22 [==============================] - 0s 267us/sample - loss: 0.0820 - val_loss: 0.1753\n",
      "Epoch 48/50\n",
      "22/22 [==============================] - 0s 250us/sample - loss: 0.0822 - val_loss: 0.1752\n",
      "Epoch 49/50\n",
      "22/22 [==============================] - 0s 245us/sample - loss: 0.0826 - val_loss: 0.1755\n",
      "Epoch 50/50\n",
      "22/22 [==============================] - 0s 259us/sample - loss: 0.0820 - val_loss: 0.1740\n"
     ]
    },
    {
     "data": {
      "text/plain": [
       "<tensorflow.python.keras.callbacks.History at 0x7fc0bb36d310>"
      ]
     },
     "execution_count": 9,
     "metadata": {},
     "output_type": "execute_result"
    }
   ],
   "source": [
    "#Train the network\n",
    "nn.train_network()"
   ]
  },
  {
   "cell_type": "code",
   "execution_count": 10,
   "metadata": {
    "scrolled": true
   },
   "outputs": [
    {
     "name": "stdout",
     "output_type": "stream",
     "text": [
      "making a prediction for ...      PFE\n",
      "Correctly predicted!\n",
      "making a prediction for ...      GE\n",
      "Correctly predicted!\n",
      "making a prediction for ...      INTC\n",
      "Incorrectly predicted\n",
      "making a prediction for ...      AA\n",
      "Correctly predicted!\n",
      "making a prediction for ...      C\n",
      "Incorrectly predicted\n",
      "making a prediction for ...      GM\n",
      "Correctly predicted!\n",
      "\n",
      "\n",
      "4/6 correctly predicted\n"
     ]
    }
   ],
   "source": [
    "#Test accuracy should tell us exactly how many the neural network correctly predicted from the testing/training set.\n",
    "#Be careful though, the network is trained on the same data set that we are using \"test_accuracy\" on.\n",
    "#So, if there is underlying bias in the data set, or if we overtrain on our data set, then test_accuracy will\n",
    "#tell us that our neural network has done very well, when it may not predict other stocks well at all.\n",
    "nn.test_accuracy()"
   ]
  }
 ],
 "metadata": {
  "kernelspec": {
   "display_name": "Python 3",
   "language": "python",
   "name": "python3"
  },
  "language_info": {
   "codemirror_mode": {
    "name": "ipython",
    "version": 3
   },
   "file_extension": ".py",
   "mimetype": "text/x-python",
   "name": "python",
   "nbconvert_exporter": "python",
   "pygments_lexer": "ipython3",
   "version": "3.7.6"
  }
 },
 "nbformat": 4,
 "nbformat_minor": 4
}
